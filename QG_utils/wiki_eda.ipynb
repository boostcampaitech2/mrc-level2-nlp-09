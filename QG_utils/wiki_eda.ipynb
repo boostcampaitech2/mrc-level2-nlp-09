{
 "cells": [
  {
   "cell_type": "code",
   "execution_count": 1,
   "metadata": {},
   "outputs": [
    {
     "name": "stdout",
     "output_type": "stream",
     "text": [
      "   a  b  c\n",
      "0  1  2  3\n",
      "1  4  5  6\n",
      "2  7  8  9\n",
      "0    1\n",
      "1    4\n",
      "2    7\n",
      "Name: a, dtype: int64\n"
     ]
    }
   ],
   "source": [
    "import pandas as pd\n",
    "test = [ [1,2,3], [4,5,6], [7,8,9]]\n",
    "\n",
    "test_df = pd.DataFrame(test, columns=['a', 'b', 'c'])\n",
    "print(test_df)\n",
    "print(test_df.iloc[:]['a'])"
   ]
  },
  {
   "cell_type": "code",
   "execution_count": 2,
   "metadata": {},
   "outputs": [
    {
     "name": "stdout",
     "output_type": "stream",
     "text": [
      "2021-10-30 10:51:32.438395\n",
      "date and time = 2021-10-30-10:51:32\n"
     ]
    }
   ],
   "source": [
    "from datetime import datetime\n",
    "now = datetime.now()\n",
    "print(now)\n",
    "\n",
    "dt_string = now.strftime(\"%Y-%m-%d-%H:%M:%S\")\n",
    "print(\"date and time =\", dt_string)\t"
   ]
  },
  {
   "cell_type": "code",
   "execution_count": 17,
   "metadata": {},
   "outputs": [],
   "source": [
    "import re\n",
    "def preprocess(text):\n",
    "    text = re.sub(r\"\\n\", \" \", text)\n",
    "    text = re.sub(r\"\\\\n\", \" \", text)\n",
    "    #text = re.sub(r\"\\'\", \"\", text) -> 이거 풀면 성능 하락\n",
    "    text = re.sub(r\"\\s+\", \" \", text)\n",
    "    text = re.sub(r\"#\", \" \", text)\n",
    "    text = re.sub(\n",
    "        r\"[^a-zA-Z0-9가-힣ㄱ-ㅎㅏ-ㅣぁ-ゔァ-ヴー々〆〤一-龥<>()\\s\\.\\?!》《≪≫\\'<>〈〉:‘’%,『』「」＜＞・\\\"-“”∧]\",\n",
    "        \"\",\n",
    "        text,\n",
    "    )\n",
    "    return text"
   ]
  },
  {
   "cell_type": "code",
   "execution_count": 3,
   "metadata": {},
   "outputs": [
    {
     "data": {
      "text/plain": [
       "56737"
      ]
     },
     "execution_count": 3,
     "metadata": {},
     "output_type": "execute_result"
    }
   ],
   "source": [
    "wiki_df = pd.read_json('../../data/wikipedia_documents_del.json', orient='index')\n",
    "# context_id = 3\n",
    "len(wiki_df['text'].unique())"
   ]
  },
  {
   "cell_type": "code",
   "execution_count": 4,
   "metadata": {},
   "outputs": [
    {
     "data": {
      "text/html": [
       "<div>\n",
       "<style scoped>\n",
       "    .dataframe tbody tr th:only-of-type {\n",
       "        vertical-align: middle;\n",
       "    }\n",
       "\n",
       "    .dataframe tbody tr th {\n",
       "        vertical-align: top;\n",
       "    }\n",
       "\n",
       "    .dataframe thead th {\n",
       "        text-align: right;\n",
       "    }\n",
       "</style>\n",
       "<table border=\"1\" class=\"dataframe\">\n",
       "  <thead>\n",
       "    <tr style=\"text-align: right;\">\n",
       "      <th></th>\n",
       "      <th>text</th>\n",
       "      <th>corpus_source</th>\n",
       "      <th>url</th>\n",
       "      <th>domain</th>\n",
       "      <th>title</th>\n",
       "      <th>author</th>\n",
       "      <th>html</th>\n",
       "      <th>document_id</th>\n",
       "    </tr>\n",
       "  </thead>\n",
       "  <tbody>\n",
       "    <tr>\n",
       "      <th>0</th>\n",
       "      <td>매우 다양한 분야의 연구에서 주어진 문제에 대하여 적절한 정보를 수집하고 분석하여 ...</td>\n",
       "      <td>위키피디아</td>\n",
       "      <td>TODO</td>\n",
       "      <td>NaN</td>\n",
       "      <td>통계학</td>\n",
       "      <td>NaN</td>\n",
       "      <td>NaN</td>\n",
       "      <td>18</td>\n",
       "    </tr>\n",
       "    <tr>\n",
       "      <th>1</th>\n",
       "      <td>고대 일본에서 한자의 일부 획을 따서 문자로 삼은 것은 일찍이 7세기부터였으나,  ...</td>\n",
       "      <td>위키피디아</td>\n",
       "      <td>TODO</td>\n",
       "      <td>NaN</td>\n",
       "      <td>가타카나</td>\n",
       "      <td>NaN</td>\n",
       "      <td>NaN</td>\n",
       "      <td>37</td>\n",
       "    </tr>\n",
       "    <tr>\n",
       "      <th>2</th>\n",
       "      <td>가난 때문에 중학교에 진학하지 못하고 아버지의 농사를 도왔다. 가난에서 벗어나려고 ...</td>\n",
       "      <td>위키피디아</td>\n",
       "      <td>TODO</td>\n",
       "      <td>NaN</td>\n",
       "      <td>정주영</td>\n",
       "      <td>NaN</td>\n",
       "      <td>NaN</td>\n",
       "      <td>40</td>\n",
       "    </tr>\n",
       "    <tr>\n",
       "      <th>3</th>\n",
       "      <td>그러나 고 김대중 전 대통령이 제15대 대통령에 당선되어 1998년 2월 25일 국...</td>\n",
       "      <td>위키피디아</td>\n",
       "      <td>TODO</td>\n",
       "      <td>NaN</td>\n",
       "      <td>정주영</td>\n",
       "      <td>NaN</td>\n",
       "      <td>NaN</td>\n",
       "      <td>46</td>\n",
       "    </tr>\n",
       "    <tr>\n",
       "      <th>4</th>\n",
       "      <td>선형대수학은 2차원 혹은 3차원의 직교 좌표계에 대한 연구로 부터 시작되었다.\\n\\...</td>\n",
       "      <td>위키피디아</td>\n",
       "      <td>TODO</td>\n",
       "      <td>NaN</td>\n",
       "      <td>선형대수학</td>\n",
       "      <td>NaN</td>\n",
       "      <td>NaN</td>\n",
       "      <td>62</td>\n",
       "    </tr>\n",
       "    <tr>\n",
       "      <th>5</th>\n",
       "      <td>학부과정에서 가르치는 선형대수학의 내용들은 다음과 같다. 다만 이 내용은 일반적으로...</td>\n",
       "      <td>위키피디아</td>\n",
       "      <td>TODO</td>\n",
       "      <td>NaN</td>\n",
       "      <td>선형대수학</td>\n",
       "      <td>NaN</td>\n",
       "      <td>NaN</td>\n",
       "      <td>63</td>\n",
       "    </tr>\n",
       "    <tr>\n",
       "      <th>6</th>\n",
       "      <td>아칸소주 호프에서 태어난 윌리엄 제퍼슨 클린턴은 5번째 세대의 아칸소주민이었다. 그...</td>\n",
       "      <td>위키피디아</td>\n",
       "      <td>TODO</td>\n",
       "      <td>NaN</td>\n",
       "      <td>빌 클린턴</td>\n",
       "      <td>NaN</td>\n",
       "      <td>NaN</td>\n",
       "      <td>74</td>\n",
       "    </tr>\n",
       "    <tr>\n",
       "      <th>7</th>\n",
       "      <td>1974년 클린턴은 자신의 10대 시절 이래 자신이 원했던 정치 경력을 시작하기로 ...</td>\n",
       "      <td>위키피디아</td>\n",
       "      <td>TODO</td>\n",
       "      <td>NaN</td>\n",
       "      <td>빌 클린턴</td>\n",
       "      <td>NaN</td>\n",
       "      <td>NaN</td>\n",
       "      <td>75</td>\n",
       "    </tr>\n",
       "    <tr>\n",
       "      <th>8</th>\n",
       "      <td>즉각적으로 정권을 인수받은 후 클린턴은 1993년 가족 의료 법안에 관한 대선 공약...</td>\n",
       "      <td>위키피디아</td>\n",
       "      <td>TODO</td>\n",
       "      <td>NaN</td>\n",
       "      <td>빌 클린턴</td>\n",
       "      <td>NaN</td>\n",
       "      <td>NaN</td>\n",
       "      <td>78</td>\n",
       "    </tr>\n",
       "    <tr>\n",
       "      <th>9</th>\n",
       "      <td>클린턴의 첫 기간의 말기가 접근하면서 새로운 스캔들이 일어났다. 스캔들은 클린턴과 ...</td>\n",
       "      <td>위키피디아</td>\n",
       "      <td>TODO</td>\n",
       "      <td>NaN</td>\n",
       "      <td>빌 클린턴</td>\n",
       "      <td>NaN</td>\n",
       "      <td>NaN</td>\n",
       "      <td>79</td>\n",
       "    </tr>\n",
       "  </tbody>\n",
       "</table>\n",
       "</div>"
      ],
      "text/plain": [
       "                                                text corpus_source   url  \\\n",
       "0  매우 다양한 분야의 연구에서 주어진 문제에 대하여 적절한 정보를 수집하고 분석하여 ...         위키피디아  TODO   \n",
       "1  고대 일본에서 한자의 일부 획을 따서 문자로 삼은 것은 일찍이 7세기부터였으나,  ...         위키피디아  TODO   \n",
       "2  가난 때문에 중학교에 진학하지 못하고 아버지의 농사를 도왔다. 가난에서 벗어나려고 ...         위키피디아  TODO   \n",
       "3  그러나 고 김대중 전 대통령이 제15대 대통령에 당선되어 1998년 2월 25일 국...         위키피디아  TODO   \n",
       "4  선형대수학은 2차원 혹은 3차원의 직교 좌표계에 대한 연구로 부터 시작되었다.\\n\\...         위키피디아  TODO   \n",
       "5  학부과정에서 가르치는 선형대수학의 내용들은 다음과 같다. 다만 이 내용은 일반적으로...         위키피디아  TODO   \n",
       "6  아칸소주 호프에서 태어난 윌리엄 제퍼슨 클린턴은 5번째 세대의 아칸소주민이었다. 그...         위키피디아  TODO   \n",
       "7  1974년 클린턴은 자신의 10대 시절 이래 자신이 원했던 정치 경력을 시작하기로 ...         위키피디아  TODO   \n",
       "8  즉각적으로 정권을 인수받은 후 클린턴은 1993년 가족 의료 법안에 관한 대선 공약...         위키피디아  TODO   \n",
       "9  클린턴의 첫 기간의 말기가 접근하면서 새로운 스캔들이 일어났다. 스캔들은 클린턴과 ...         위키피디아  TODO   \n",
       "\n",
       "   domain  title  author  html  document_id  \n",
       "0     NaN    통계학     NaN   NaN           18  \n",
       "1     NaN   가타카나     NaN   NaN           37  \n",
       "2     NaN    정주영     NaN   NaN           40  \n",
       "3     NaN    정주영     NaN   NaN           46  \n",
       "4     NaN  선형대수학     NaN   NaN           62  \n",
       "5     NaN  선형대수학     NaN   NaN           63  \n",
       "6     NaN  빌 클린턴     NaN   NaN           74  \n",
       "7     NaN  빌 클린턴     NaN   NaN           75  \n",
       "8     NaN  빌 클린턴     NaN   NaN           78  \n",
       "9     NaN  빌 클린턴     NaN   NaN           79  "
      ]
     },
     "execution_count": 4,
     "metadata": {},
     "output_type": "execute_result"
    }
   ],
   "source": [
    "wiki_df.head(10)"
   ]
  },
  {
   "cell_type": "code",
   "execution_count": 18,
   "metadata": {},
   "outputs": [
    {
     "data": {
      "application/vnd.jupyter.widget-view+json": {
       "model_id": "cf02c620208044039fa57cfc76d94ebd",
       "version_major": 2,
       "version_minor": 0
      },
      "text/plain": [
       "HBox(children=(FloatProgress(value=1.0, bar_style='info', max=1.0), HTML(value='')))"
      ]
     },
     "metadata": {},
     "output_type": "display_data"
    },
    {
     "name": "stdout",
     "output_type": "stream",
     "text": [
      "\n"
     ]
    }
   ],
   "source": [
    "from collections import defaultdict\n",
    "from tqdm.auto import tqdm\n",
    "group_by_answer = defaultdict(str)\n",
    "\n",
    "for idx, row in tqdm(wiki_df.iterrows()):\n",
    "    group_by_answer[row['title']] += preprocess(row['text'])\n",
    "\n",
    "# print(group_by_answer)"
   ]
  },
  {
   "cell_type": "code",
   "execution_count": 19,
   "metadata": {},
   "outputs": [
    {
     "data": {
      "application/vnd.jupyter.widget-view+json": {
       "model_id": "4747fa89069a4d159296272ad7c0b5f7",
       "version_major": 2,
       "version_minor": 0
      },
      "text/plain": [
       "HBox(children=(FloatProgress(value=1.0, bar_style='info', max=1.0), HTML(value='')))"
      ]
     },
     "metadata": {},
     "output_type": "display_data"
    },
    {
     "name": "stdout",
     "output_type": "stream",
     "text": [
      "\n"
     ]
    }
   ],
   "source": [
    "merge_wiki = {}\n",
    "\n",
    "for idx, title in tqdm(enumerate(group_by_answer)):\n",
    "    merge_wiki[idx] = {'text': group_by_answer[title], 'title': title, 'document_id': idx}"
   ]
  },
  {
   "cell_type": "code",
   "execution_count": 20,
   "metadata": {},
   "outputs": [],
   "source": [
    "import json\n",
    "\n",
    "with open('merge_wiki.json', 'w', encoding='utf-8') as json_file:\n",
    "    json.dump(merge_wiki, json_file)"
   ]
  },
  {
   "cell_type": "code",
   "execution_count": 21,
   "metadata": {},
   "outputs": [
    {
     "data": {
      "text/html": [
       "<div>\n",
       "<style scoped>\n",
       "    .dataframe tbody tr th:only-of-type {\n",
       "        vertical-align: middle;\n",
       "    }\n",
       "\n",
       "    .dataframe tbody tr th {\n",
       "        vertical-align: top;\n",
       "    }\n",
       "\n",
       "    .dataframe thead th {\n",
       "        text-align: right;\n",
       "    }\n",
       "</style>\n",
       "<table border=\"1\" class=\"dataframe\">\n",
       "  <thead>\n",
       "    <tr style=\"text-align: right;\">\n",
       "      <th></th>\n",
       "      <th>text</th>\n",
       "      <th>title</th>\n",
       "      <th>document_id</th>\n",
       "    </tr>\n",
       "  </thead>\n",
       "  <tbody>\n",
       "    <tr>\n",
       "      <th>0</th>\n",
       "      <td>매우 다양한 분야의 연구에서 주어진 문제에 대하여 적절한 정보를 수집하고 분석하여 ...</td>\n",
       "      <td>통계학</td>\n",
       "      <td>0</td>\n",
       "    </tr>\n",
       "    <tr>\n",
       "      <th>1</th>\n",
       "      <td>고대 일본에서 한자의 일부 획을 따서 문자로 삼은 것은 일찍이 7세기부터였으나, 오...</td>\n",
       "      <td>가타카나</td>\n",
       "      <td>1</td>\n",
       "    </tr>\n",
       "    <tr>\n",
       "      <th>2</th>\n",
       "      <td>가난 때문에 중학교에 진학하지 못하고 아버지의 농사를 도왔다. 가난에서 벗어나려고 ...</td>\n",
       "      <td>정주영</td>\n",
       "      <td>2</td>\n",
       "    </tr>\n",
       "    <tr>\n",
       "      <th>3</th>\n",
       "      <td>선형대수학은 2차원 혹은 3차원의 직교 좌표계에 대한 연구로 부터 시작되었다. 선형...</td>\n",
       "      <td>선형대수학</td>\n",
       "      <td>3</td>\n",
       "    </tr>\n",
       "    <tr>\n",
       "      <th>4</th>\n",
       "      <td>아칸소주 호프에서 태어난 윌리엄 제퍼슨 클린턴은 5번째 세대의 아칸소주민이었다. 그...</td>\n",
       "      <td>빌 클린턴</td>\n",
       "      <td>4</td>\n",
       "    </tr>\n",
       "    <tr>\n",
       "      <th>5</th>\n",
       "      <td>보통 오른손잡이는 반대쪽 왼손으로 넥 부분을 잡고 현을 누르며 오른손으로 현을 탄현...</td>\n",
       "      <td>기타</td>\n",
       "      <td>5</td>\n",
       "    </tr>\n",
       "    <tr>\n",
       "      <th>6</th>\n",
       "      <td>블랙데이가 언제부터 어떻게 시작됐는지는 정확히 알 수 없다. 처음으로 언급된 것은 ...</td>\n",
       "      <td>블랙데이</td>\n",
       "      <td>6</td>\n",
       "    </tr>\n",
       "    <tr>\n",
       "      <th>7</th>\n",
       "      <td>에릭 레이먼드가 쓴 〈성당과 시장〉(The Cathedral and the Baza...</td>\n",
       "      <td>성당과 시장</td>\n",
       "      <td>7</td>\n",
       "    </tr>\n",
       "    <tr>\n",
       "      <th>8</th>\n",
       "      <td>기시 노부스케 내각 기간인 1959년부터 1960년까지 미일상호방위조약 체결을 둘러...</td>\n",
       "      <td>자유민주당 (일본)</td>\n",
       "      <td>8</td>\n",
       "    </tr>\n",
       "    <tr>\n",
       "      <th>9</th>\n",
       "      <td>가와바타 야스나리는 일본 문학사에 찬연히 빛나는 수많은 명작을 남긴 근현대 일본 문...</td>\n",
       "      <td>가와바타 야스나리</td>\n",
       "      <td>9</td>\n",
       "    </tr>\n",
       "  </tbody>\n",
       "</table>\n",
       "</div>"
      ],
      "text/plain": [
       "                                                text       title  document_id\n",
       "0  매우 다양한 분야의 연구에서 주어진 문제에 대하여 적절한 정보를 수집하고 분석하여 ...         통계학            0\n",
       "1  고대 일본에서 한자의 일부 획을 따서 문자로 삼은 것은 일찍이 7세기부터였으나, 오...        가타카나            1\n",
       "2  가난 때문에 중학교에 진학하지 못하고 아버지의 농사를 도왔다. 가난에서 벗어나려고 ...         정주영            2\n",
       "3  선형대수학은 2차원 혹은 3차원의 직교 좌표계에 대한 연구로 부터 시작되었다. 선형...       선형대수학            3\n",
       "4  아칸소주 호프에서 태어난 윌리엄 제퍼슨 클린턴은 5번째 세대의 아칸소주민이었다. 그...       빌 클린턴            4\n",
       "5  보통 오른손잡이는 반대쪽 왼손으로 넥 부분을 잡고 현을 누르며 오른손으로 현을 탄현...          기타            5\n",
       "6  블랙데이가 언제부터 어떻게 시작됐는지는 정확히 알 수 없다. 처음으로 언급된 것은 ...        블랙데이            6\n",
       "7  에릭 레이먼드가 쓴 〈성당과 시장〉(The Cathedral and the Baza...      성당과 시장            7\n",
       "8  기시 노부스케 내각 기간인 1959년부터 1960년까지 미일상호방위조약 체결을 둘러...  자유민주당 (일본)            8\n",
       "9  가와바타 야스나리는 일본 문학사에 찬연히 빛나는 수많은 명작을 남긴 근현대 일본 문...   가와바타 야스나리            9"
      ]
     },
     "execution_count": 21,
     "metadata": {},
     "output_type": "execute_result"
    }
   ],
   "source": [
    "wiki_df = pd.read_json('merge_wiki.json', orient='index')\n",
    "# context_id = 3\n",
    "wiki_df.head(10)"
   ]
  },
  {
   "cell_type": "code",
   "execution_count": 22,
   "metadata": {},
   "outputs": [
    {
     "data": {
      "text/plain": [
       "'아오조라 문고(靑空文庫, あおぞらぶんこ|아오조라 분고)는 ‘일본어판 구텐베르크 프로젝트’로 불리는 일본의 인터넷 전자도서관으로, 저작권이 풀린 문학작품을 수집, 전자문서화해서 인터넷에 공개하고 있다. 저자 사후 50년이 지난 메이지, 쇼와 시대 초기의 일본 문학 작품이 그 대부분을 차지하고 있고, 일본어 외 문학 작품의 일본어 번역 작품도 다수 있다. 1997년 2월 도미타 미치오, 노구치 에이치, 야마키 미에, 란무로 사테이 등 4명이 창설하여 시작되었다. 2016년 연간 방문객수는 940만 건 이상이다. 아오조라 문고에 수록된 작품은 JIS X 0208에 해당되는 한자 범위 내에서 자원봉사자에 의해 아오조라 문고 형식 텍스트파일이나 HTML 파일로 전자화된다. 또 아오조라 문고 수록파일 취급기준에 따라 자유롭게 이용할 수 있기 때문에, 수록된 작품을 PC는 물론 PDA와 휴대전화로도 볼 수 있다. 텍스트 파일을 큰 글자로 인쇄하거나 전용 소프트웨어에 불러들여 시각장애인용으로 이용하는 방안도 기대되고 있다. 아오조라 문고의 열람 소프트웨어는 따로 개발 및 제공되고 있는 것은 없지만, 전자사전이나 아이폰용 어플리케이션 등은 타사에서 개발하여 출시되어 있다저자 사망 이후 50년이 지나 저작권이 소멸한 메이지 시대부터 쇼와 시대 초기까지의 서적 대부분이 존재한다. 외국 번역작품이나 저자가 무료보기를 인정한 현대작품도 포함된다. 장르는 정치부터 취미까지 다양하지만, 비교적 문학작품(시대소설, 추리소설등의 오락작품 포함)이 많다. 유명작가의 작품이 모두 갖춰져있진 않지만 그래도 일본어작품에 관련해서는 충실하게 갖춰진 편이다. (번역작품의 경우 번역저작권을 문제로 수가 많지 않다.) 잘 알려지지 않은 작품을 보존, 소개하는 장점도 있다. 작품 텍스트화는 지금도 현재진행형이며 2011년 3월 15일 현재 등록작품수가 1만권이 넘었다. 고전작가인 모리 오가이, 나츠메 소세키, 아쿠타가와 류노스케, 최근의 작가로는 나카지마 아츠시, 다자이 오사무, 하야시 후미코, 미야모토 유리코, 호리 다쓰오, 사카구치 안고, 다카무라 고타로, 나가이 가후, 요시카와 에이지 등 인물의 작품이 있다.아오조라 문고는 자원봉사로 운영되며 열람 역시 무료이다. 서비스 개시 초반에는 보이저 사에서 서버를 제공하였다. 1998년부터 1999년까지는 토미타가 작업 수칙과 매뉴얼을 만들었다. 자원봉사로 운영되기 때문에 작품의 입력과 교정 역시 자원봉사자가 한다 입력은 원본을 보면서 타자입력이나 스캐너로 입력하는 방법으로 이뤄진다 또 작품을 입력하는 \\'입력자\\'와 입력된 작품을 교정하는 \\'교정자\\'는 별도의 자원봉사자가 담당한다. 따라서 작품이 공개되기 전까지는 작품을 입력한 뒤 교정자가 교정을 예약할 때까지 \\'교정대기\\' (校正待ち)가 되고, 작업을 멈추게 된다. 즉, 입력하는 자원봉사자가 작품을 입력해 교정을 맡은 자원봉사자가 교정예약을 해서, 교정작업을 완료하기 전까지는 작품을 공개할 수 없다. 때문에 입력이 완료되어도 작업 상태가 \\'교정대기\\' 상태인 작품이 증가하고 있다. 이는 입력에 비해 교정 작업이 부족하기 때문으로, 아오조라 문고 출범 당시부터 안고 있는 문제점이기도 하다. 이 문제에 대해서는 작품의 교정작업을 하지 않고 공개하는 방안과 입력자가 교정한 것도 인정하자는 방안이 제기된 적이 있지만 현재까지도 이 방안은 채택되지 못하고 있다 대신 2011년 12월 16일 공개분부터는 기부금을 재원으로 삼은 \\'유상교정\\' 서비스가 진행되고 있다. 2013년 8월 아오조라 문고의 설립자인 토미타가 사망한 것을 계기로, 아오조라 문고에 지속적인 지원을 해줄 \\'책의 미래 기금\\' (本の未来基金)이 설립됐다. 하지만 2015년부터는 엔지니어가 없는 상태로 서버를 강제로 돌리고 있으며, 서버 자체도 노후화되고 있다는 점이 문제되고 있다. 이 때문에 2015년 5월 \"\\'Code for 아오조라 문고\\' 아이디어 송\"이 개최되어 향후 시스템 운용에 대한 의견 교환이 이뤄졌다. 그 이후에는 해당 모임을 바탕으로 시스템 관리와 코드수정 등을 맡는 \\'aozorahack\\' 프로젝트가 진행되고 있다.텍스트 파일을 아오조라 문고에 수록할 때, 텍스트 파일이 갖추어야 할 서식을 \\'아오조라 문고\\' 형식이라 부른다. 아오조라 문고 형식은 텍스트 파일로서 많은 환경에서 읽을 수 있도록 규격화되어있다. 때문에 가능한 한 원본의 충실한 재현을 목표로 삼고 있지만, 줄 바꿈이나 삽화 등의 정보는 원칙적으로 포함되지 않는다. 아오조라 문고 형식에 대응하는 텍스트 뷰어와 텍스트 편집기도 존재하며, 올림문자와 방점 등도 재현할 수 있다. 또 이러한 텍스트 뷰어에서는 본래 아오조라 문고 형식에 포함되지 않았던 삽화 정보를 삽입하거나 세로쓰기로 표시할 수 있으며, 텍스트를 읽기 쉽도록 만드는 다양한 기능이 포함되어 있다. 이러한 소프트웨어는 유료와 무료를 불문하고 종류가 다양하다.일본어 표기에 많이 쓰이는 올림문자 (후리가나)는 그대로 올려쓰지 않고 \\'\\'나 \\'《》\\'로 표시한다. 올림문자를 《》 로 묶거나 로 올릴 문자열을 특정하는 방식은 일본 시각장애인 독서지원협회 (BBA) 의 원문입력 수칙에 따른 것이다. 이 같은 방식을 예시로 들자면 다음과 같다. :青空文庫《ぶんこ》 아오조라 문고 라고 표기했다면 \\'ぶんこ\\' (분코)라는 올림표기가 \\'文庫\\' 부분에 걸려 있는 것이다. 다만, :本日は晴天《せいてん》なり 오늘은 맑은 하늘. 처럼 올림표기를 쓸 한자가 가나로 충분히 구분된다면 를 써서 분리할 필요가 없으므로 쓰지 않는다. 또한, :ブルースカイ《青空》 블루스카이 (\"청공\") 처럼 가나에 올림표기를 강제로 쓰는 것도 가능하다.'"
      ]
     },
     "execution_count": 22,
     "metadata": {},
     "output_type": "execute_result"
    }
   ],
   "source": [
    "wiki_df[wiki_df['title'] == '아오조라 문고']['text'][395]"
   ]
  },
  {
   "cell_type": "code",
   "execution_count": 23,
   "metadata": {},
   "outputs": [],
   "source": [
    "texts = []\n",
    "titles = []\n",
    "documents_id = []\n",
    "\n",
    "\n",
    "for i in range(len(wiki_df)):\n",
    "    wiki_context = wiki_df['text'][i]\n",
    "    wiki_title = wiki_df['title'][i]\n",
    "    wiki_docuemnts_id = wiki_df['document_id'][i]\n",
    "\n",
    "    if wiki_title in wiki_context:\n",
    "        texts.append(wiki_context)\n",
    "        titles.append(wiki_title)\n",
    "        documents_id.append(wiki_docuemnts_id)\n",
    "\n",
    "wiki_qa_df = pd.DataFrame(data={'text':texts,'title':titles,'document_id':documents_id})\n",
    "wiki_qa_df.head()\n",
    "\n",
    "wiki_qa_df.to_csv('wiki_text_title.csv')"
   ]
  },
  {
   "cell_type": "code",
   "execution_count": null,
   "metadata": {},
   "outputs": [
    {
     "data": {
      "text/plain": [
       "763    아오조라 문고(靑空文庫, あおぞらぶんこ|아오조라 분고)는 ‘일본어판 구텐베르크 프로...\n",
       "764    저자 사망 이후 50년이 지나 저작권이 소멸한 메이지 시대부터 쇼와 시대 초기까지의...\n",
       "765    아오조라 문고는 자원봉사로 운영되며 열람 역시 무료이다.  서비스 개시 초반에는 보...\n",
       "766    텍스트 파일을 아오조라 문고에 수록할 때, 텍스트 파일이 갖추어야 할 서식을 '아오...\n",
       "767    일본어 표기에 많이 쓰이는 올림문자 (후리가나)는 그대로 올려쓰지 않고 '｜'나 '...\n",
       "Name: text, dtype: object"
      ]
     },
     "execution_count": 10,
     "metadata": {},
     "output_type": "execute_result"
    }
   ],
   "source": [
    "wiki_df[wiki_df['title'] == '아오조라 문고']['text']"
   ]
  },
  {
   "cell_type": "code",
   "execution_count": null,
   "metadata": {},
   "outputs": [
    {
     "data": {
      "text/plain": [
       "'저자 사망 이후 50년이 지나 저작권이 소멸한 메이지 시대부터 쇼와 시대 초기까지의 서적 대부분이 존재한다. 외국 번역작품이나 저자가 무료보기를 인정한 현대작품도 포함된다. 장르는 정치부터 취미까지 다양하지만, 비교적 문학작품(시대소설, 추리소설등의 오락작품 포함)이 많다. 유명작가의 작품이 모두 갖춰져있진 않지만 그래도 일본어작품에 관련해서는 충실하게 갖춰진 편이다. (번역작품의 경우 번역저작권을 문제로 수가 많지 않다.)\\n\\n잘 알려지지 않은 작품을 보존, 소개하는 장점도 있다. 작품 텍스트화는 지금도 현재진행형이며 2011년 3월 15일 현재 등록작품수가 1만권이 넘었다.\\n고전작가인 모리 오가이, 나츠메 소세키, 아쿠타가와 류노스케, 최근의 작가로는 나카지마 아츠시, 다자이 오사무, 하야시 후미코, 미야모토 유리코, 호리 다쓰오, 사카구치 안고, 다카무라 고타로, 나가이 가후, 요시카와 에이지 등 인물의 작품이 있다.'"
      ]
     },
     "execution_count": 11,
     "metadata": {},
     "output_type": "execute_result"
    }
   ],
   "source": [
    "wiki_df[wiki_df['title'] == '아오조라 문고']['text'][764]"
   ]
  },
  {
   "cell_type": "code",
   "execution_count": null,
   "metadata": {},
   "outputs": [
    {
     "data": {
      "text/plain": [
       "34734    앨범이 발매된 날이 1월 11일인데, 이 날은 시티의 생일이다. 이 앨범은 시티의 ...\n",
       "Name: text, dtype: object"
      ]
     },
     "execution_count": 12,
     "metadata": {},
     "output_type": "execute_result"
    }
   ],
   "source": [
    "wiki_df[wiki_df['title'] == 'Safa']['text']"
   ]
  },
  {
   "cell_type": "code",
   "execution_count": null,
   "metadata": {},
   "outputs": [
    {
     "data": {
      "text/html": [
       "<div>\n",
       "<style scoped>\n",
       "    .dataframe tbody tr th:only-of-type {\n",
       "        vertical-align: middle;\n",
       "    }\n",
       "\n",
       "    .dataframe tbody tr th {\n",
       "        vertical-align: top;\n",
       "    }\n",
       "\n",
       "    .dataframe thead th {\n",
       "        text-align: right;\n",
       "    }\n",
       "</style>\n",
       "<table border=\"1\" class=\"dataframe\">\n",
       "  <thead>\n",
       "    <tr style=\"text-align: right;\">\n",
       "      <th></th>\n",
       "      <th>text</th>\n",
       "      <th>title</th>\n",
       "    </tr>\n",
       "  </thead>\n",
       "  <tbody>\n",
       "    <tr>\n",
       "      <th>0</th>\n",
       "      <td>매우 다양한 분야의 연구에서 주어진 문제에 대하여 적절한 정보를 수집하고 분석하여 ...</td>\n",
       "      <td>통계학</td>\n",
       "    </tr>\n",
       "    <tr>\n",
       "      <th>1</th>\n",
       "      <td>고대 일본에서 한자의 일부 획을 따서 문자로 삼은 것은 일찍이 7세기부터였으나,  ...</td>\n",
       "      <td>가타카나</td>\n",
       "    </tr>\n",
       "    <tr>\n",
       "      <th>2</th>\n",
       "      <td>가난 때문에 중학교에 진학하지 못하고 아버지의 농사를 도왔다. 가난에서 벗어나려고 ...</td>\n",
       "      <td>정주영</td>\n",
       "    </tr>\n",
       "    <tr>\n",
       "      <th>3</th>\n",
       "      <td>그러나 고 김대중 전 대통령이 제15대 대통령에 당선되어 1998년 2월 25일 국...</td>\n",
       "      <td>정주영</td>\n",
       "    </tr>\n",
       "    <tr>\n",
       "      <th>4</th>\n",
       "      <td>선형대수학은 2차원 혹은 3차원의 직교 좌표계에 대한 연구로 부터 시작되었다.\\n\\...</td>\n",
       "      <td>선형대수학</td>\n",
       "    </tr>\n",
       "  </tbody>\n",
       "</table>\n",
       "</div>"
      ],
      "text/plain": [
       "                                                text  title\n",
       "0  매우 다양한 분야의 연구에서 주어진 문제에 대하여 적절한 정보를 수집하고 분석하여 ...    통계학\n",
       "1  고대 일본에서 한자의 일부 획을 따서 문자로 삼은 것은 일찍이 7세기부터였으나,  ...   가타카나\n",
       "2  가난 때문에 중학교에 진학하지 못하고 아버지의 농사를 도왔다. 가난에서 벗어나려고 ...    정주영\n",
       "3  그러나 고 김대중 전 대통령이 제15대 대통령에 당선되어 1998년 2월 25일 국...    정주영\n",
       "4  선형대수학은 2차원 혹은 3차원의 직교 좌표계에 대한 연구로 부터 시작되었다.\\n\\...  선형대수학"
      ]
     },
     "execution_count": 13,
     "metadata": {},
     "output_type": "execute_result"
    }
   ],
   "source": [
    "texts = []\n",
    "titles = []\n",
    "\n",
    "for i in range(len(wiki_df)):\n",
    "    wiki_context = wiki_df['text'][i]\n",
    "    wiki_title = wiki_df['title'][i]\n",
    "\n",
    "    if wiki_title in wiki_context:\n",
    "        texts.append(wiki_context)\n",
    "        titles.append(wiki_title)\n",
    "\n",
    "wiki_qa_df = pd.DataFrame(data={'text':texts,'title':titles})\n",
    "wiki_qa_df.head()"
   ]
  },
  {
   "cell_type": "code",
   "execution_count": null,
   "metadata": {},
   "outputs": [],
   "source": [
    "qg = pd.read_csv('../question_generation_id.tsv', sep='\\t')\n",
    "qg.columns = ['question', 'answer', 'context_id']\n",
    "\n",
    "qg = qg.sort_values(by='context_id')"
   ]
  },
  {
   "cell_type": "code",
   "execution_count": null,
   "metadata": {},
   "outputs": [
    {
     "data": {
      "text/html": [
       "<div>\n",
       "<style scoped>\n",
       "    .dataframe tbody tr th:only-of-type {\n",
       "        vertical-align: middle;\n",
       "    }\n",
       "\n",
       "    .dataframe tbody tr th {\n",
       "        vertical-align: top;\n",
       "    }\n",
       "\n",
       "    .dataframe thead th {\n",
       "        text-align: right;\n",
       "    }\n",
       "</style>\n",
       "<table border=\"1\" class=\"dataframe\">\n",
       "  <thead>\n",
       "    <tr style=\"text-align: right;\">\n",
       "      <th></th>\n",
       "      <th>question</th>\n",
       "      <th>answer</th>\n",
       "      <th>context_id</th>\n",
       "    </tr>\n",
       "  </thead>\n",
       "  <tbody>\n",
       "    <tr>\n",
       "      <th>20704</th>\n",
       "      <td>일본인터넷 전자도서관의 이름은 무엇인가?</td>\n",
       "      <td>아오조라 문고</td>\n",
       "      <td>3</td>\n",
       "    </tr>\n",
       "    <tr>\n",
       "      <th>4743</th>\n",
       "      <td>토미타 아오조라가 자원봉사를 시작한 것은 언제인가?</td>\n",
       "      <td>아오조라 문고</td>\n",
       "      <td>5</td>\n",
       "    </tr>\n",
       "    <tr>\n",
       "      <th>18568</th>\n",
       "      <td>음원 파일의 진위여부를 판별할 수 있는 문구는?</td>\n",
       "      <td>아오조라 문고</td>\n",
       "      <td>6</td>\n",
       "    </tr>\n",
       "    <tr>\n",
       "      <th>19607</th>\n",
       "      <td>일본 시각장애 독서지원협회는 어떤 문자의 올림문자 사용을 금지하였는가?</td>\n",
       "      <td>아오조라 문고</td>\n",
       "      <td>7</td>\n",
       "    </tr>\n",
       "    <tr>\n",
       "      <th>1203</th>\n",
       "      <td>일본인터넷 전자도서관의 이름은 무엇인가?</td>\n",
       "      <td>아오조라 문고</td>\n",
       "      <td>4557</td>\n",
       "    </tr>\n",
       "    <tr>\n",
       "      <th>10482</th>\n",
       "      <td>토미타 아오조라가 자원봉사를 시작한 것은 언제인가?</td>\n",
       "      <td>아오조라 문고</td>\n",
       "      <td>4559</td>\n",
       "    </tr>\n",
       "    <tr>\n",
       "      <th>2685</th>\n",
       "      <td>음원 파일의 진위여부를 판별할 수 있는 문구는?</td>\n",
       "      <td>아오조라 문고</td>\n",
       "      <td>4560</td>\n",
       "    </tr>\n",
       "    <tr>\n",
       "      <th>11261</th>\n",
       "      <td>일본 시각장애 독서지원협회는 어떤 문자의 올림문자 사용을 금지하였는가?</td>\n",
       "      <td>아오조라 문고</td>\n",
       "      <td>4561</td>\n",
       "    </tr>\n",
       "  </tbody>\n",
       "</table>\n",
       "</div>"
      ],
      "text/plain": [
       "                                      question   answer  context_id\n",
       "20704                   일본인터넷 전자도서관의 이름은 무엇인가?  아오조라 문고           3\n",
       "4743              토미타 아오조라가 자원봉사를 시작한 것은 언제인가?  아오조라 문고           5\n",
       "18568               음원 파일의 진위여부를 판별할 수 있는 문구는?  아오조라 문고           6\n",
       "19607  일본 시각장애 독서지원협회는 어떤 문자의 올림문자 사용을 금지하였는가?  아오조라 문고           7\n",
       "1203                    일본인터넷 전자도서관의 이름은 무엇인가?  아오조라 문고        4557\n",
       "10482             토미타 아오조라가 자원봉사를 시작한 것은 언제인가?  아오조라 문고        4559\n",
       "2685                음원 파일의 진위여부를 판별할 수 있는 문구는?  아오조라 문고        4560\n",
       "11261  일본 시각장애 독서지원협회는 어떤 문자의 올림문자 사용을 금지하였는가?  아오조라 문고        4561"
      ]
     },
     "execution_count": 15,
     "metadata": {},
     "output_type": "execute_result"
    }
   ],
   "source": [
    "qg[qg['answer'] == '아오조라 문고']"
   ]
  },
  {
   "cell_type": "code",
   "execution_count": null,
   "metadata": {},
   "outputs": [],
   "source": []
  }
 ],
 "metadata": {
  "interpreter": {
   "hash": "a131218803ea04de256dcf68d0863f351f9c21059ac7f8146793fa89223f504a"
  },
  "kernelspec": {
   "display_name": "Python 3.8.11 64-bit ('torch': conda)",
   "name": "python3"
  },
  "language_info": {
   "codemirror_mode": {
    "name": "ipython",
    "version": 3
   },
   "file_extension": ".py",
   "mimetype": "text/x-python",
   "name": "python",
   "nbconvert_exporter": "python",
   "pygments_lexer": "ipython3",
   "version": "3.8.11"
  },
  "orig_nbformat": 4
 },
 "nbformat": 4,
 "nbformat_minor": 2
}
